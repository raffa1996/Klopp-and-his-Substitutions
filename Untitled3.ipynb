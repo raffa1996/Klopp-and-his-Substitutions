{
 "cells": [
  {
   "cell_type": "code",
   "execution_count": 1,
   "metadata": {},
   "outputs": [
    {
     "data": {
      "text/plain": [
       "'Hello World'"
      ]
     },
     "execution_count": 1,
     "metadata": {},
     "output_type": "execute_result"
    }
   ],
   "source": [
    "s = 'Hello World'\n",
    "str(s)"
   ]
  },
  {
   "cell_type": "code",
   "execution_count": 13,
   "metadata": {},
   "outputs": [
    {
     "data": {
      "image/png": "[encoded data removed]",
      "text/plain": [
       "<matplotlib.figure.Figure at 0xbd35630>"
      ]
     },
     "metadata": {},
     "output_type": "display_data"
    }
   ],
   "source": [
    "import pandas as pd\n",
    "import matplotlib.pyplot as plt\n",
    "import seaborn as sns\n",
    "X = pd.read_csv(\"C:/Users/win7/Downloads/subs.csv\")\n",
    "SUB = X[\"MATCH\"].value_counts()\n",
    "count_one = 0 \n",
    "count_two = 0 \n",
    "count_three = 0 \n",
    "for x in SUB: \n",
    "    if (x == 1):\n",
    "        count_one = count_one + 1\n",
    "    elif (x == 2):\n",
    "        count_two = count_two + 1\n",
    "    else:\n",
    "        count_three = count_three + 1\n",
    "labels = 'One', 'Two', 'Three'\n",
    "sizes = [count_one, count_two, count_three]\n",
    "colors = ['gold', 'yellowgreen', 'lightblue']\n",
    "explode = (0.1, 0.1, 0.1)\n",
    "plt.pie(sizes, explode=explode, labels=labels, colors=colors, autopct='%1.1f%%', shadow=True, startangle=150)\n",
    "plt.axis('equal')\n",
    "plt.title(\"Subs made in for defending 1 nil lead in 2017/18\")\n",
    "plt.show()"
   ]
  },
  {
   "cell_type": "code",
   "execution_count": 21,
   "metadata": {},
   "outputs": [
    {
     "data": {
      "text/html": [
       "<div>\n",
       "<style>\n",
       "    .dataframe thead tr:only-child th {\n",
       "        text-align: right;\n",
       "    }\n",
       "\n",
       "    .dataframe thead th {\n",
       "        text-align: left;\n",
       "    }\n",
       "\n",
       "    .dataframe tbody tr th {\n",
       "        vertical-align: top;\n",
       "    }\n",
       "</style>\n",
       "<table border=\"1\" class=\"dataframe\">\n",
       "  <thead>\n",
       "    <tr style=\"text-align: right;\">\n",
       "      <th></th>\n",
       "      <th>SUBINPOS</th>\n",
       "      <th>SUBOUTPOS</th>\n",
       "    </tr>\n",
       "  </thead>\n",
       "  <tbody>\n",
       "    <tr>\n",
       "      <th>12</th>\n",
       "      <td>Attacker</td>\n",
       "      <td>Midfielder</td>\n",
       "    </tr>\n",
       "    <tr>\n",
       "      <th>13</th>\n",
       "      <td>Midfielder</td>\n",
       "      <td>Attacker</td>\n",
       "    </tr>\n",
       "    <tr>\n",
       "      <th>19</th>\n",
       "      <td>Midfielder</td>\n",
       "      <td>Attacker</td>\n",
       "    </tr>\n",
       "    <tr>\n",
       "      <th>20</th>\n",
       "      <td>Midfielder</td>\n",
       "      <td>Attacker</td>\n",
       "    </tr>\n",
       "    <tr>\n",
       "      <th>21</th>\n",
       "      <td>Attacker</td>\n",
       "      <td>Midfielder</td>\n",
       "    </tr>\n",
       "    <tr>\n",
       "      <th>22</th>\n",
       "      <td>Attacker</td>\n",
       "      <td>Attacker</td>\n",
       "    </tr>\n",
       "    <tr>\n",
       "      <th>36</th>\n",
       "      <td>Midfielder</td>\n",
       "      <td>Midfielder</td>\n",
       "    </tr>\n",
       "    <tr>\n",
       "      <th>37</th>\n",
       "      <td>Attacker</td>\n",
       "      <td>Midfielder</td>\n",
       "    </tr>\n",
       "    <tr>\n",
       "      <th>45</th>\n",
       "      <td>Midfielder</td>\n",
       "      <td>Midfielder</td>\n",
       "    </tr>\n",
       "    <tr>\n",
       "      <th>46</th>\n",
       "      <td>Attacker</td>\n",
       "      <td>Attacker</td>\n",
       "    </tr>\n",
       "    <tr>\n",
       "      <th>47</th>\n",
       "      <td>Midfielder</td>\n",
       "      <td>Midfielder</td>\n",
       "    </tr>\n",
       "    <tr>\n",
       "      <th>48</th>\n",
       "      <td>Attacker</td>\n",
       "      <td>Attacker</td>\n",
       "    </tr>\n",
       "    <tr>\n",
       "      <th>49</th>\n",
       "      <td>Defender</td>\n",
       "      <td>Defender</td>\n",
       "    </tr>\n",
       "    <tr>\n",
       "      <th>54</th>\n",
       "      <td>Midfielder</td>\n",
       "      <td>Attacker</td>\n",
       "    </tr>\n",
       "    <tr>\n",
       "      <th>55</th>\n",
       "      <td>Midfielder</td>\n",
       "      <td>Midfielder</td>\n",
       "    </tr>\n",
       "    <tr>\n",
       "      <th>96</th>\n",
       "      <td>Defender</td>\n",
       "      <td>Attacker</td>\n",
       "    </tr>\n",
       "  </tbody>\n",
       "</table>\n",
       "</div>"
      ],
      "text/plain": [
       "      SUBINPOS   SUBOUTPOS\n",
       "12    Attacker  Midfielder\n",
       "13  Midfielder    Attacker\n",
       "19  Midfielder    Attacker\n",
       "20  Midfielder    Attacker\n",
       "21    Attacker  Midfielder\n",
       "22    Attacker    Attacker\n",
       "36  Midfielder  Midfielder\n",
       "37    Attacker  Midfielder\n",
       "45  Midfielder  Midfielder\n",
       "46    Attacker    Attacker\n",
       "47  Midfielder  Midfielder\n",
       "48    Attacker    Attacker\n",
       "49    Defender    Defender\n",
       "54  Midfielder    Attacker\n",
       "55  Midfielder  Midfielder\n",
       "96    Defender    Attacker"
      ]
     },
     "execution_count": 21,
     "metadata": {},
     "output_type": "execute_result"
    }
   ],
   "source": [
    "import pandas as pd\n",
    "import matplotlib.pyplot as plt\n",
    "import seaborn as sns\n",
    "X = pd.read_csv(\"C:/Users/win7/Downloads/subs.csv\")\n",
    "kill_game = X.loc[(X[\"OPPSCOBF\"] >= X[\"LIVSCOBF\"]) & (X[\"LIVSCOAF\"] >= X[\"OPPSCOAF\"]) & (X[\"MINUTE\"] >= 75), [\"SUBINPOS\", \"SUBOUTPOS\"]]\n",
    "kill_game \n"
   ]
  },
  {
   "cell_type": "code",
   "execution_count": 56,
   "metadata": {},
   "outputs": [
    {
     "data": {
      "image/png": "[encoded data removed]",
      "text/plain": [
       "<matplotlib.figure.Figure at 0xbfe9da0>"
      ]
     },
     "metadata": {},
     "output_type": "display_data"
    }
   ],
   "source": [
    "import pandas as pd\n",
    "import matplotlib.pyplot as plt\n",
    "import seaborn as sns\n",
    "LAST = pd.read_csv(\"C:/Users/win7/Downloads/sub1617.csv\")\n",
    "kill_last_game = LAST.loc[(LAST[\"LIVSCOBF\"] - LAST[\"OPPSCOBF\"] == 1) & (LAST[\"MINUTE\"] >= 75), [\"SUBINPOS\", \"SUBOUTPOS\"]]\n",
    "Count_last_one = len((kill_last_game.loc[(kill_game_last[\"SUBINPOS\"] == \"Defender\")]).index) \n",
    "Count_last_two = len((kill_last_game.loc[(kill_game_last[\"SUBINPOS\"] == \"Midfielder\")]).index)\n",
    "Count_last_three = len((kill_last_game.loc[(kill_game_last[\"SUBINPOS\"] == \"Attacker\")]).index) \n",
    "\n",
    "labels = 'Defender', 'Midfielder', 'Attacker'\n",
    "sizes = [Count_last_one, Count_last_two, Count_last_three]\n",
    "colors = ['brown', 'green', 'orange']\n",
    "explode = (0.1, 0.1, 0.1)\n",
    "plt.pie(sizes, explode=explode, labels=labels, colors=colors, autopct='%1.1f%%', shadow=True, startangle=150)\n",
    "plt.axis('equal')\n",
    "plt.title(\"Subs made in for defending 1 nil lead in 2016/17\", fontsize = 12)\n",
    "plt.show() \n"
   ]
  },
  {
   "cell_type": "code",
   "execution_count": 55,
   "metadata": {},
   "outputs": [
    {
     "data": {
      "image/png": "[encoded data removed]",
      "text/plain": [
       "<matplotlib.figure.Figure at 0xc069ac8>"
      ]
     },
     "metadata": {},
     "output_type": "display_data"
    }
   ],
   "source": [
    "import pandas as pd\n",
    "import matplotlib.pyplot as plt\n",
    "import seaborn as sns\n",
    "X = pd.read_csv(\"C:/Users/win7/Downloads/subs.csv\")\n",
    "kill_game = X.loc[(X[\"LIVSCOBF\"] - X[\"OPPSCOBF\"] == 1) & (X[\"MINUTE\"] >= 75), [\"SUBINPOS\"]]\n",
    "Count_one = len((kill_game.loc[(kill_game[\"SUBINPOS\"] == \"Defender\")]).index) \n",
    "Count_two = len((kill_game.loc[(kill_game[\"SUBINPOS\"] == \"Midfielder\")]).index)\n",
    "Count_three = len((kill_game.loc[(kill_game[\"SUBINPOS\"] == \"Attacker\")]).index) \n",
    "\n",
    "labels = 'Defender', 'Midfielder', 'Attacker'\n",
    "sizes = [Count_one, Count_two, Count_three]\n",
    "colors = ['brown', 'green', 'orange']\n",
    "explode = (0.1, 0.1, 0.1)\n",
    "plt.pie(sizes, explode=explode, labels=labels, colors=colors, autopct='%1.1f%%', shadow=True, startangle=150)\n",
    "plt.axis('equal')\n",
    "plt.title(\"Subs made in for defending 1 nil lead in 2017/18\", fontsize = 12)\n",
    "plt.show() \n"
   ]
  },
  {
   "cell_type": "code",
   "execution_count": 48,
   "metadata": {},
   "outputs": [
    {
     "data": {
      "text/html": [
       "<div>\n",
       "<style>\n",
       "    .dataframe thead tr:only-child th {\n",
       "        text-align: right;\n",
       "    }\n",
       "\n",
       "    .dataframe thead th {\n",
       "        text-align: left;\n",
       "    }\n",
       "\n",
       "    .dataframe tbody tr th {\n",
       "        vertical-align: top;\n",
       "    }\n",
       "</style>\n",
       "<table border=\"1\" class=\"dataframe\">\n",
       "  <thead>\n",
       "    <tr style=\"text-align: right;\">\n",
       "      <th></th>\n",
       "      <th>SUBINPOS</th>\n",
       "    </tr>\n",
       "  </thead>\n",
       "  <tbody>\n",
       "    <tr>\n",
       "      <th>0</th>\n",
       "      <td>Attacker</td>\n",
       "    </tr>\n",
       "    <tr>\n",
       "      <th>1</th>\n",
       "      <td>Midfielder</td>\n",
       "    </tr>\n",
       "    <tr>\n",
       "      <th>2</th>\n",
       "      <td>Defender</td>\n",
       "    </tr>\n",
       "    <tr>\n",
       "      <th>5</th>\n",
       "      <td>Defender</td>\n",
       "    </tr>\n",
       "    <tr>\n",
       "      <th>16</th>\n",
       "      <td>Midfielder</td>\n",
       "    </tr>\n",
       "    <tr>\n",
       "      <th>60</th>\n",
       "      <td>Midfielder</td>\n",
       "    </tr>\n",
       "    <tr>\n",
       "      <th>61</th>\n",
       "      <td>Defender</td>\n",
       "    </tr>\n",
       "    <tr>\n",
       "      <th>63</th>\n",
       "      <td>Midfielder</td>\n",
       "    </tr>\n",
       "    <tr>\n",
       "      <th>64</th>\n",
       "      <td>Defender</td>\n",
       "    </tr>\n",
       "    <tr>\n",
       "      <th>67</th>\n",
       "      <td>Defender</td>\n",
       "    </tr>\n",
       "    <tr>\n",
       "      <th>75</th>\n",
       "      <td>Defender</td>\n",
       "    </tr>\n",
       "    <tr>\n",
       "      <th>102</th>\n",
       "      <td>Defender</td>\n",
       "    </tr>\n",
       "  </tbody>\n",
       "</table>\n",
       "</div>"
      ],
      "text/plain": [
       "       SUBINPOS\n",
       "0      Attacker\n",
       "1    Midfielder\n",
       "2      Defender\n",
       "5      Defender\n",
       "16   Midfielder\n",
       "60   Midfielder\n",
       "61     Defender\n",
       "63   Midfielder\n",
       "64     Defender\n",
       "67     Defender\n",
       "75     Defender\n",
       "102    Defender"
      ]
     },
     "execution_count": 48,
     "metadata": {},
     "output_type": "execute_result"
    }
   ],
   "source": [
    "import pandas as pd\n",
    "import matplotlib.pyplot as plt\n",
    "import seaborn as sns\n",
    "X = pd.read_csv(\"C:/Users/win7/Downloads/subs.csv\")\n",
    "kill_game = X.loc[(X[\"LIVSCOBF\"] - X[\"OPPSCOBF\"] == 1) & (X[\"MINUTE\"] >= 75), [\"SUBINPOS\"]]\n",
    "kill_game\n"
   ]
  },
  {
   "cell_type": "code",
   "execution_count": null,
   "metadata": {
    "collapsed": true
   },
   "outputs": [],
   "source": []
  }
 ],
 "metadata": {
  "kernelspec": {
   "display_name": "Python 2",
   "language": "python",
   "name": "python2"
  },
  "language_info": {
   "codemirror_mode": {
    "name": "ipython",
    "version": 2
   },
   "file_extension": ".py",
   "mimetype": "text/x-python",
   "name": "python",
   "nbconvert_exporter": "python",
   "pygments_lexer": "ipython2",
   "version": "2.7.13"
  }
 },
 "nbformat": 4,
 "nbformat_minor": 2
}
